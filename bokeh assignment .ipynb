{
 "cells": [
  {
   "cell_type": "markdown",
   "id": "86c3e36e-95c0-4962-88f8-5058c572f4b0",
   "metadata": {},
   "source": [
    "Assignment--- Bokeh"
   ]
  },
  {
   "cell_type": "markdown",
   "id": "b5d36d25-0a6f-468a-b6ce-735ea4b0cc34",
   "metadata": {},
   "source": [
    "Q1. How can you create a Bokeh plot using Python code?"
   ]
  },
  {
   "cell_type": "markdown",
   "id": "fe324a1d-35f0-47b4-83ec-39e09a13a3fd",
   "metadata": {},
   "source": [
    "Bokeh is a Python library that enables you to create interactive and visually appealing plots, graphs, and visualizations. To create a Bokeh plot using Python code, you need to follow these basic steps:"
   ]
  },
  {
   "cell_type": "code",
   "execution_count": 1,
   "id": "c287e37f-54ce-4ad2-a45a-eb95c5c662a2",
   "metadata": {},
   "outputs": [
    {
     "name": "stdout",
     "output_type": "stream",
     "text": [
      "Requirement already satisfied: bokeh in /opt/conda/lib/python3.10/site-packages (3.0.3)\n",
      "Requirement already satisfied: pillow>=7.1.0 in /opt/conda/lib/python3.10/site-packages (from bokeh) (9.2.0)\n",
      "Requirement already satisfied: contourpy>=1 in /opt/conda/lib/python3.10/site-packages (from bokeh) (1.0.6)\n",
      "Requirement already satisfied: tornado>=5.1 in /opt/conda/lib/python3.10/site-packages (from bokeh) (6.1)\n",
      "Requirement already satisfied: packaging>=16.8 in /opt/conda/lib/python3.10/site-packages (from bokeh) (22.0)\n",
      "Requirement already satisfied: xyzservices>=2021.09.1 in /opt/conda/lib/python3.10/site-packages (from bokeh) (2022.9.0)\n",
      "Requirement already satisfied: Jinja2>=2.9 in /opt/conda/lib/python3.10/site-packages (from bokeh) (3.1.2)\n",
      "Requirement already satisfied: numpy>=1.11.3 in /opt/conda/lib/python3.10/site-packages (from bokeh) (1.23.5)\n",
      "Requirement already satisfied: PyYAML>=3.10 in /opt/conda/lib/python3.10/site-packages (from bokeh) (6.0)\n",
      "Requirement already satisfied: pandas>=1.2 in /opt/conda/lib/python3.10/site-packages (from bokeh) (1.5.2)\n",
      "Requirement already satisfied: MarkupSafe>=2.0 in /opt/conda/lib/python3.10/site-packages (from Jinja2>=2.9->bokeh) (2.1.1)\n",
      "Requirement already satisfied: python-dateutil>=2.8.1 in /opt/conda/lib/python3.10/site-packages (from pandas>=1.2->bokeh) (2.8.2)\n",
      "Requirement already satisfied: pytz>=2020.1 in /opt/conda/lib/python3.10/site-packages (from pandas>=1.2->bokeh) (2022.6)\n",
      "Requirement already satisfied: six>=1.5 in /opt/conda/lib/python3.10/site-packages (from python-dateutil>=2.8.1->pandas>=1.2->bokeh) (1.16.0)\n",
      "Note: you may need to restart the kernel to use updated packages.\n"
     ]
    }
   ],
   "source": [
    "pip install bokeh\n"
   ]
  },
  {
   "cell_type": "code",
   "execution_count": 2,
   "id": "b86ea161-8dff-4e02-87ad-d97483483086",
   "metadata": {},
   "outputs": [],
   "source": [
    "import bokeh\n"
   ]
  },
  {
   "cell_type": "markdown",
   "id": "b0fc489b-cb47-4e3d-875d-369a86fc8d7f",
   "metadata": {},
   "source": [
    "Create your data: To create a Bokeh plot, you need to have some data to plot. You can use any Python data structure like lists, tuples, or arrays to store your data.\n",
    "\n",
    "Create a figure: After importing Bokeh and creating your data, you need to create a figure to display your data"
   ]
  },
  {
   "cell_type": "code",
   "execution_count": 3,
   "id": "5f6c8938-9430-489d-9fe5-d4088fba2f5a",
   "metadata": {},
   "outputs": [],
   "source": [
    "#Q2. What are glyphs in Bokeh, and how can you add them to a Bokeh plot? Explain with an example."
   ]
  },
  {
   "cell_type": "markdown",
   "id": "3f3f0244-7d13-4bcd-bc81-1ea4715866fb",
   "metadata": {},
   "source": [
    "In Bokeh, glyphs are visual shapes that can be added to a plot to represent data points. Glyphs can be used to create various types of plots, including scatter plots, line plots, and bar charts. Bokeh provides a wide range of glyphs, such as circles, squares, triangles, lines, and more.\n",
    "\n",
    "To add a glyph to a Bokeh plot, you can use the glyph method of the figure class."
   ]
  },
  {
   "cell_type": "markdown",
   "id": "27d6b2b1-5939-41fe-8aa3-77ee7c7c9dd8",
   "metadata": {},
   "source": [
    "Example - "
   ]
  },
  {
   "cell_type": "code",
   "execution_count": 7,
   "id": "54d54b6d-888d-4dd0-afa7-5e14de4ab192",
   "metadata": {},
   "outputs": [],
   "source": [
    "from bokeh.plotting import figure, output_file, show\n",
    "\n",
    "x = [1, 2, 3, 4, 5]\n",
    "y = [6, 7, 2, 4, 5]\n",
    "\n",
    "\n",
    "output_file(\"scatter.html\")\n",
    "\n",
    "\n",
    "p = figure(title=\"Scatter Plot\", x_axis_label='x', y_axis_label='y')\n",
    "\n",
    "\n",
    "p.circle(x, y, size=50, color=\"green\", alpha=1.0)\n",
    "\n",
    "\n",
    "\n",
    "show(p)\n"
   ]
  },
  {
   "cell_type": "code",
   "execution_count": 8,
   "id": "3eebb9eb-411c-49f2-81f1-03df2823de20",
   "metadata": {},
   "outputs": [],
   "source": [
    "#Q3. How can you customize the appearance of a Bokeh plot, including the axes, title, and legend?"
   ]
  },
  {
   "cell_type": "markdown",
   "id": "590ebb1d-d18e-4f47-a274-05bd94bad64e",
   "metadata": {},
   "source": [
    "\n",
    "You can customize the appearance of a Bokeh plot using various methods and properties provided by the figure class"
   ]
  },
  {
   "cell_type": "code",
   "execution_count": null,
   "id": "16845878-9ad8-423f-8cbe-9777f1efbe81",
   "metadata": {},
   "outputs": [],
   "source": [
    "\n",
    "import bokeh.io\n",
    "import bokeh.plotting\n",
    "bokeh.io.output_notebook()\n",
    "\n",
    "pip install bokeh\n",
    "\n",
    "from bokeh.plotting import figure ,output_file ,show\n",
    "from bokeh.sampledata.iris import flowers\n",
    "\n",
    "output_file('test.html')\n",
    "\n",
    "p = figure(title = \"test flower\" )\n",
    "p.xaxis.axis_label = \"patel lenght\"\n",
    "p.yaxis.axis_label = \"patel width\"\n",
    "p.circle(flowers['petal_length'], flowers['petal_width'])\n",
    "show(p)\n",
    "\n",
    "flowers\n",
    "\n",
    "from bokeh.plotting import figure ,output_file ,show\n",
    "from bokeh.sampledata.iris import flowers\n",
    "\n",
    "output_file('line.html')\n",
    "\n",
    "p = figure(title = \"line graph \" )\n",
    "p.xaxis.axis_label = \"x graph \"\n",
    "p.yaxis.axis_label = \"y graph\"\n",
    "p.line(flowers['petal_length'], flowers['petal_width'])\n",
    "show(p)\n",
    "\n",
    "x = [2,3,4,5,6]\n",
    "y = [1,4,5,6,7]\n",
    "output_file(\"line.html\")\n",
    "figure(title = \"line plot\")\n",
    "p.line(x,y)\n",
    "show(p)\n",
    "\n",
    "x = [2,3,4,5,6]\n",
    "y = [1,4,5,6,7]\n",
    "output_file(\"line.html\")\n",
    "figure(title = \"line plot\")\n",
    "p.scatter(x,y)\n",
    "show(p)\n",
    "\n"
   ]
  },
  {
   "cell_type": "code",
   "execution_count": null,
   "id": "c682aa19-27b5-4f39-bf83-2ea799870f63",
   "metadata": {},
   "outputs": [],
   "source": [
    "#Q4. What is a Bokeh server, and how can you use it to create interactive plots that can be updated in real time?\n"
   ]
  },
  {
   "cell_type": "markdown",
   "id": "0820c017-920d-4dec-b52b-94db9600e063",
   "metadata": {},
   "source": [
    "The primary purpose of the Bokeh server is to synchronize data between the underlying Python environment and the BokehJS library running in the browser."
   ]
  },
  {
   "cell_type": "code",
   "execution_count": null,
   "id": "4745060b-edba-4cdd-9c3b-59fe8013dd55",
   "metadata": {},
   "outputs": [],
   "source": []
  },
  {
   "cell_type": "code",
   "execution_count": null,
   "id": "99863ad9-63bc-4186-8d11-d0fa805b46d5",
   "metadata": {},
   "outputs": [],
   "source": [
    "p = figure(title = \"test flower\" )\n",
    "p.xaxis.axis_label = \"patel lenght\"\n",
    "p.yaxis.axis_label = \"patel width\"\n",
    "p.circle(flowers['petal_length'], flowers['petal_width'])\n",
    "show(p)\n",
    "\n",
    "flowers\n",
    "\n",
    "from bokeh.plotting import figure ,output_file ,show\n",
    "from bokeh.sampledata.iris import flowers\n",
    "\n",
    "output_file('line.html')\n",
    "\n",
    "p = figure(title = \"line graph \" )\n",
    "p.xaxis.axis_label = \"x graph \"\n",
    "p.yaxis.axis_label = \"y graph\"\n",
    "p.line(flowers['petal_length'], flowers['petal_width'])\n",
    "show(p)\n",
    "\n",
    "x = [2,3,4,5,6]\n",
    "y = [1,4,5,6,7]\n",
    "output_file(\"line.html\")\n",
    "figure(title = \"line plot\")\n",
    "p.line(x,y)\n",
    "show(p)\n",
    "\n",
    "x = [2,3,4,5,6]\n",
    "y = [1,4,5,6,7]\n",
    "output_file(\"line.html\")\n",
    "figure(title = \"line plot\")\n",
    "p.scatter(x,y)\n",
    "show(p)\n"
   ]
  },
  {
   "cell_type": "code",
   "execution_count": null,
   "id": "4c207a94-28e5-4867-a9f4-2e3a585e40e3",
   "metadata": {},
   "outputs": [],
   "source": [
    "#Q5. How can you embed a Bokeh plot into a web page or dashboard using Flask or Django?"
   ]
  },
  {
   "cell_type": "code",
   "execution_count": null,
   "id": "e479c8a5-a57c-428c-a017-7fea5eb4a861",
   "metadata": {},
   "outputs": [],
   "source": []
  }
 ],
 "metadata": {
  "kernelspec": {
   "display_name": "Python 3 (ipykernel)",
   "language": "python",
   "name": "python3"
  },
  "language_info": {
   "codemirror_mode": {
    "name": "ipython",
    "version": 3
   },
   "file_extension": ".py",
   "mimetype": "text/x-python",
   "name": "python",
   "nbconvert_exporter": "python",
   "pygments_lexer": "ipython3",
   "version": "3.10.8"
  }
 },
 "nbformat": 4,
 "nbformat_minor": 5
}
